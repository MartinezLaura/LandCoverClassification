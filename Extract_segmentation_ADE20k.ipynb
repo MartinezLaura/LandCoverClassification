{
 "cells": [
  {
   "cell_type": "markdown",
   "metadata": {
    "id": "rBd5VEAPRHXq"
   },
   "source": [
    "# Train with ADE20k via Gluon the LUCAS IMAGES\n",
    "We train on the 140 images selected where the LC is represented and inference the semantic segmentation objects for those images with the ADE20K dataset\n"
   ]
  },
  {
   "cell_type": "code",
   "execution_count": 1,
   "metadata": {
    "executionInfo": {
     "elapsed": 6,
     "status": "ok",
     "timestamp": 1646213305809,
     "user": {
      "displayName": "Laura Martínez",
      "photoUrl": "https://lh3.googleusercontent.com/a-/AOh14GgGYc4m_Am4sV-KVzZkmTsTJQHhRjoUfd5oOgFVcA=s64",
      "userId": "00638740950867382970"
     },
     "user_tz": -60
    },
    "id": "cS6HyzbxRYmq"
   },
   "outputs": [
    {
     "ename": "IndentationError",
     "evalue": "unindent does not match any outer indentation level (RF_utils.py, line 489)",
     "output_type": "error",
     "traceback": [
      "Traceback \u001b[0;36m(most recent call last)\u001b[0m:\n",
      "  File \u001b[1;32m\"/eos/jeodpp/data/projects/REFOCUS/data/LandCOverCLass/venv/mxnet_gluon/lib/python3.7/site-packages/IPython/core/interactiveshell.py\"\u001b[0m, line \u001b[1;32m3524\u001b[0m, in \u001b[1;35mrun_code\u001b[0m\n    exec(code_obj, self.user_global_ns, self.user_ns)\n",
      "\u001b[0;36m  File \u001b[0;32m\"/tmp/ipykernel_7520/1174408900.py\"\u001b[0;36m, line \u001b[0;32m15\u001b[0;36m, in \u001b[0;35m<module>\u001b[0;36m\u001b[0m\n\u001b[0;31m    import RF_utils as utils\u001b[0m\n",
      "\u001b[0;36m  File \u001b[0;32m\"/eos/jeodpp/data/projects/REFOCUS/data/LandCOverCLass/code/git/RF_utils.py\"\u001b[0;36m, line \u001b[0;32m489\u001b[0m\n\u001b[0;31m    plt.rcParams[\"figure.figsize\"] = (10,7)\u001b[0m\n\u001b[0m                                           ^\u001b[0m\n\u001b[0;31mIndentationError\u001b[0m\u001b[0;31m:\u001b[0m unindent does not match any outer indentation level\n"
     ]
    }
   ],
   "source": [
    "import pandas as pd\n",
    "import numpy as np\n",
    "import shutil\n",
    "\n",
    "from PIL import Image \n",
    "import PIL \n",
    "import cv2\n",
    "\n",
    "import os\n",
    "from pathlib import Path\n",
    "import glob\n",
    "import sys\n",
    "sys.path.append(\"./git\")\n",
    "\n",
    "import RF_utils as utils\n",
    "\n",
    "import mxnet as mx\n",
    "from mxnet import image\n",
    "from mxnet.gluon.data.vision import transforms\n",
    "import gluoncv\n",
    "from gluoncv.data.transforms.presets.segmentation import test_transform\n",
    "from gluoncv.utils.viz import get_color_pallete"
   ]
  },
  {
   "cell_type": "markdown",
   "metadata": {},
   "source": [
    "Set the paths for the code\n"
   ]
  },
  {
   "cell_type": "code",
   "execution_count": null,
   "metadata": {},
   "outputs": [],
   "source": [
    "project_path = '/eos/jeodpp/data/projects/REFOCUS/data'"
   ]
  },
  {
   "cell_type": "code",
   "execution_count": null,
   "metadata": {
    "executionInfo": {
     "elapsed": 5,
     "status": "ok",
     "timestamp": 1646213307999,
     "user": {
      "displayName": "Laura Martínez",
      "photoUrl": "https://lh3.googleusercontent.com/a-/AOh14GgGYc4m_Am4sV-KVzZkmTsTJQHhRjoUfd5oOgFVcA=s64",
      "userId": "00638740950867382970"
     },
     "user_tz": -60
    },
    "id": "EFOKWNexTb71"
   },
   "outputs": [],
   "source": [
    "images_csv_path = '{}/LandCOverCLass/inputs/'.format(project_path)\n",
    "inputs_path = '{}/LandCOverCLass/inputs/dataset/'.format(project_path)\n",
    "out_path = '{}/LandCOverCLass/outputs/'.format(project_path)"
   ]
  },
  {
   "cell_type": "markdown",
   "metadata": {
    "colab": {
     "base_uri": "https://localhost:8080/"
    },
    "executionInfo": {
     "elapsed": 8740,
     "status": "ok",
     "timestamp": 1646213316735,
     "user": {
      "displayName": "Laura Martínez",
      "photoUrl": "https://lh3.googleusercontent.com/a-/AOh14GgGYc4m_Am4sV-KVzZkmTsTJQHhRjoUfd5oOgFVcA=s64",
      "userId": "00638740950867382970"
     },
     "user_tz": -60
    },
    "id": "c7-Fd7mzLxP2",
    "outputId": "301bdb8f-29dc-45f5-cca8-feafa3ba8299"
   },
   "source": [
    "Now we use the LUCAS Harmonized Database, see: https://www.nature.com/articles/s41597-020-00675-z"
   ]
  },
  {
   "cell_type": "code",
   "execution_count": null,
   "metadata": {},
   "outputs": [],
   "source": [
    "lucas_harmo = '{}/lucas_harmo.csv'.format(images_csv_path)\n",
    "gt = pd.read_csv(lucas_harmo)\n",
    "gt = gt[gt['year'] == 2018]"
   ]
  },
  {
   "cell_type": "markdown",
   "metadata": {},
   "source": [
    "#### Select the list of images and find all the atribute of those images in the LUCAS database 2018"
   ]
  },
  {
   "cell_type": "code",
   "execution_count": null,
   "metadata": {},
   "outputs": [],
   "source": [
    "#fetch the images\n",
    "imgs = glob.glob('{}*jpg'.format(inputs_path))\n",
    "\n",
    "#finsd the images in the LUCAS database\n",
    "limgs = [int(im.split('P')[0].split('/')[-1]) for im in imgs]\n",
    "df = pd.DataFrame(limgs, columns = ['id'])\n",
    "ids = gt['point_id'].tolist()\n",
    "boolean_series = df.id.isin(ids)\n",
    "df = df[boolean_series]\n",
    "df['lc1'] = df.id.map(gt.set_index('point_id')['letter_group'])\n",
    "\n",
    "#Save the filtered table wher we have the id of the images and the LC associated to it \n",
    "df.to_csv('{}Final-dataset-140xclass.csv'.format(images_csv_path))"
   ]
  },
  {
   "cell_type": "markdown",
   "metadata": {},
   "source": [
    "## Inference of with Deeplabv3 +\n",
    "\n",
    "We use the one implemented by Gluon and trained with ADE20k dataset\n",
    "\n",
    "see: https://github.com/dmlc/gluon-cv"
   ]
  },
  {
   "cell_type": "code",
   "execution_count": null,
   "metadata": {
    "colab": {
     "base_uri": "https://localhost:8080/"
    },
    "executionInfo": {
     "elapsed": 7339,
     "status": "ok",
     "timestamp": 1646213346596,
     "user": {
      "displayName": "Laura Martínez",
      "photoUrl": "https://lh3.googleusercontent.com/a-/AOh14GgGYc4m_Am4sV-KVzZkmTsTJQHhRjoUfd5oOgFVcA=s64",
      "userId": "00638740950867382970"
     },
     "user_tz": -60
    },
    "id": "eK3XOemgTjJc",
    "outputId": "3cd70632-c7b0-4f42-e846-10632c34929b"
   },
   "outputs": [],
   "source": [
    "# Use the CPU\n",
    "ctx = mx.cpu()\n",
    "\n",
    "# get the labels from ADE20K\n",
    "labels = utils.retrieve_ADE()\n",
    "\n",
    "# select the backbones that we want to try during inference:\n",
    "models = ['deeplab_resnest50_ade', 'deeplab_resnest101_ade', 'deeplab_resnest200_ade', 'deeplab_resnest269_ade']\n",
    "\n",
    "images = df.copy()"
   ]
  },
  {
   "cell_type": "code",
   "execution_count": null,
   "metadata": {
    "colab": {
     "base_uri": "https://localhost:8080/"
    },
    "id": "FDBBfyYzZngo",
    "outputId": "0755cd9a-a3a1-4a2c-cc83-b3fe2f453721"
   },
   "outputs": [],
   "source": [
    "# Loop thourg the available backbones and do the inference for each of them\n",
    "\n",
    "for model_name in models:\n",
    "    \n",
    "    #crate the dataframe to gather all the data from the inference\n",
    "    name_csv = '{}test-{}.csv'.format(out_path, model_name)\n",
    "    \n",
    "    ade20kdata = utils.create_dataframe(labels, images)\n",
    "    \n",
    "    for inx, row in images.iterrows():\n",
    "        print(row['id'])\n",
    "      # Check if the image is already procesed\n",
    "        if len(ade20kdata.loc[ade20kdata['id'] == row['id']]) == 0:  \n",
    "            aux = '{}{}P.jpg'.format(inputs_path, row['id'])\n",
    "            img = image.imread(aux)\n",
    "\n",
    "            #normalize the image using mean\n",
    "            img = test_transform(img, ctx)\n",
    "\n",
    "            #get the backbone to use\n",
    "            model = gluoncv.model_zoo.get_model(model_name, pretrained=True)\n",
    "            \n",
    "            #Inference on the image\n",
    "            output = model.predict(img)\n",
    "            predict = mx.nd.squeeze(mx.nd.argmax(output, 1)).asnumpy()\n",
    "            \n",
    "            #save the image\n",
    "            Path(\"{}/{}/masks/\".format(out_path, model_name,)).mkdir(parents=True, exist_ok=True)\n",
    "            cv2.imwrite(\"{}/{}/masks/{}P.png\".format(out_path, model_name, row['id']), predict)\n",
    "\n",
    "\n",
    "            #get values of ade20k\n",
    "            mask = get_color_pallete(predict, 'ade20k')\n",
    "            \n",
    "            #Get the pixel \"area\" for each ADE20K class predicted\n",
    "            (unique, counts) = np.unique(mask, return_counts=True)\n",
    "            \n",
    "            #add data to the dataframe\n",
    "            ade20kdata.loc[inx, 'id'] = row['id']\n",
    "            ade20kdata.loc[inx, 'lc'] = row['lc1']\n",
    "              \n",
    "            for i in range(len(unique)):\n",
    "                clas = labels[unique[i]]\n",
    "                ade20kdata.loc[inx, str(clas)] = counts[i]\n",
    "            \n",
    "            ade20kdata.to_csv(name_csv)\n",
    "\n",
    "        else:\n",
    "            print('Image: {} already processed'.format(row['id']))\n",
    "\n"
   ]
  }
 ],
 "metadata": {
  "accelerator": "GPU",
  "colab": {
   "authorship_tag": "ABX9TyO3atvQByheX8GdgI6OEQiD",
   "collapsed_sections": [],
   "name": "Extract_segmentation_ADE20k.ipynb",
   "provenance": []
  },
  "kernelspec": {
   "display_name": "mxnet_gluon",
   "language": "python",
   "name": "mxnet_gluon"
  },
  "language_info": {
   "codemirror_mode": {
    "name": "ipython",
    "version": 3
   },
   "file_extension": ".py",
   "mimetype": "text/x-python",
   "name": "python",
   "nbconvert_exporter": "python",
   "pygments_lexer": "ipython3",
   "version": "3.7.6"
  }
 },
 "nbformat": 4,
 "nbformat_minor": 4
}
